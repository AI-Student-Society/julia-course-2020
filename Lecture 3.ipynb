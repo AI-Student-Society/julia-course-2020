{
 "cells": [
  {
   "cell_type": "markdown",
   "metadata": {},
   "source": [
    "# A Short Tour of Julia\n",
    "\n",
    "In this lecture we will explore:\n",
    "\n",
    "- Differential equations with ```DifferentialEquations.jl```\n",
    "- Probabilistic programming with ```Turing.jl```\n",
    "- Distributed computation"
   ]
  },
  {
   "cell_type": "code",
   "execution_count": null,
   "metadata": {},
   "outputs": [],
   "source": [
    "using Pkg\n",
    "Pkg.activate(\".\")\n",
    "Pkg.add(\"DifferentialEquations\")\n",
    "Pkg.add(\"Plots\")\n",
    "Pkg.add(\"Catalyst\")\n",
    "Pkg.add(\"Turing\")\n",
    "Pkg.add(\"Distributions\")\n",
    "Pkg.add(\"MCMCChains\")\n",
    "Pkg.add(\"Distributed\")\n",
    "Pkg.add(\"BenchmarkTools\")"
   ]
  },
  {
   "cell_type": "markdown",
   "metadata": {},
   "source": [
    "## Differential Equations\n",
    "\n",
    "The ```DifferentialEquations.jl``` package makes easy to define and solve multiple kinds of differential equations, with multiple solvers available depending on the kind of equation."
   ]
  },
  {
   "cell_type": "code",
   "execution_count": null,
   "metadata": {},
   "outputs": [],
   "source": [
    "using DifferentialEquations\n",
    "using Plots"
   ]
  },
  {
   "cell_type": "markdown",
   "metadata": {},
   "source": [
    "Let us define a simple ordinary differential equation \n",
    "$$ \\frac{du}{dt} = \\alpha u $$\n",
    "where $\\alpha$ is a parameter"
   ]
  },
  {
   "cell_type": "code",
   "execution_count": null,
   "metadata": {},
   "outputs": [],
   "source": [
    "α = 1.02\n",
    "f(u, p, t) = α*u"
   ]
  },
  {
   "cell_type": "markdown",
   "metadata": {},
   "source": [
    "By default in the definition of the ODE there are:\n",
    "- The variable $u$.\n",
    "- A collection of parameters to the ODE (we will show how to use them shortly).\n",
    "- The time $t$.\n",
    "\n",
    "We now need to define the initial state $u_0$ and the time interval for which we want to solve our ODE"
   ]
  },
  {
   "cell_type": "code",
   "execution_count": null,
   "metadata": {},
   "outputs": [],
   "source": [
    "u0 = 0.03\n",
    "tspan = (0.0, 1.0);"
   ]
  },
  {
   "cell_type": "markdown",
   "metadata": {},
   "source": [
    "We can now define an ODE problem, which is entirely determined by the ODE, the initial conditions, and the timespan:"
   ]
  },
  {
   "cell_type": "code",
   "execution_count": null,
   "metadata": {},
   "outputs": [],
   "source": [
    "prob = ODEProblem(f, u0, tspan)"
   ]
  },
  {
   "cell_type": "markdown",
   "metadata": {},
   "source": [
    "To obtain a solution we can simply call ```solve```. As additional arguments we can specify:\n",
    "\n",
    "- the solver to use (see the [documentation](https://diffeq.sciml.ai/v6.16/solvers/ode_solve/#ode_solve)).\n",
    "- relative and absolute tolerances (keyword arguments ```reltol``` and ```abstol```, respectively).\n",
    "- we might also only give a _hint_ to select the solver with, for example, ```alg_hints=[:stiff]```."
   ]
  },
  {
   "cell_type": "code",
   "execution_count": null,
   "metadata": {},
   "outputs": [],
   "source": [
    "sol = solve(prob)"
   ]
  },
  {
   "cell_type": "markdown",
   "metadata": {},
   "source": [
    "We can now plot the solution (and the analytical solution for comparison):"
   ]
  },
  {
   "cell_type": "code",
   "execution_count": null,
   "metadata": {},
   "outputs": [],
   "source": [
    "plot(sol, lw=3, xaxis=\"Time (t)\", yaxis=\"u(t)\", legend=false)\n",
    "plot!(0:0.01:1, t->u0*exp(α*t), lw=3, ls=:dash)"
   ]
  },
  {
   "cell_type": "markdown",
   "metadata": {},
   "source": [
    "Notice that the structure ```sol``` can be used as a function that, for values that were not computed, provides an interpolation:"
   ]
  },
  {
   "cell_type": "code",
   "execution_count": null,
   "metadata": {},
   "outputs": [],
   "source": [
    "[sol(i) for i ∈ 0:0.1:1]"
   ]
  },
  {
   "cell_type": "markdown",
   "metadata": {},
   "source": [
    "The solution structure also contains information about the pair $(t,u)$ that were computed during the solution process in ```sol.t``` and ```sol.u```:"
   ]
  },
  {
   "cell_type": "code",
   "execution_count": null,
   "metadata": {},
   "outputs": [],
   "source": [
    "println(\"t = $(sol.t)\\nu = $(sol.u)\")"
   ]
  },
  {
   "cell_type": "markdown",
   "metadata": {},
   "source": [
    "### Parameters\n",
    "\n",
    "We had one argument of $f$ that was not used: ```p```.\n",
    "\n",
    "```p``` can be an strucure of any type containing the parameters that we want to use in the differential equation."
   ]
  },
  {
   "cell_type": "code",
   "execution_count": null,
   "metadata": {},
   "outputs": [],
   "source": [
    "g(u, p, t) = p * u"
   ]
  },
  {
   "cell_type": "markdown",
   "metadata": {},
   "source": [
    "The value of the parameters can be passed as an argument of the ODE problem"
   ]
  },
  {
   "cell_type": "code",
   "execution_count": null,
   "metadata": {},
   "outputs": [],
   "source": [
    "prob = ODEProblem(g, u0, tspan, α)"
   ]
  },
  {
   "cell_type": "markdown",
   "metadata": {},
   "source": [
    "Everyting continues to work as before"
   ]
  },
  {
   "cell_type": "code",
   "execution_count": null,
   "metadata": {},
   "outputs": [],
   "source": [
    "sol = solve(prob, Tsit5(), reltol=1e-8, abstol=1e-8)\n",
    "plot(sol,lw=3, xaxis=\"Time (t)\", yaxis=\"u(t)\", legend=false)\n",
    "plot!(sol.t, t->u0*exp(α*t), lw=3, ls=:dash)"
   ]
  },
  {
   "cell_type": "markdown",
   "metadata": {},
   "source": [
    "### In-place\n",
    "\n",
    "Until now we had ```In-place: false``` for all our ODE problem. This means that there is a new allocation every time we need to compute a new value of ```f```. We can avoid the allocation by using an ```in-place``` definition where the value is returned by modifing one of the arguments"
   ]
  },
  {
   "cell_type": "code",
   "execution_count": null,
   "metadata": {},
   "outputs": [],
   "source": [
    "function f!(du, u, p, t)\n",
    "    du[1] = p * u[1]\n",
    "end"
   ]
  },
  {
   "cell_type": "code",
   "execution_count": null,
   "metadata": {},
   "outputs": [],
   "source": [
    "prob_inplace = ODEProblem(f!, [u0], tspan, α)"
   ]
  },
  {
   "cell_type": "markdown",
   "metadata": {},
   "source": [
    "There are two things to notice:\n",
    "\n",
    "- One additional argument (the first argument) to $f!$, which is the value to be modified.\n",
    "- The value of ```In-place``` when the ```ODEProblem``` is defined is now ```true```"
   ]
  },
  {
   "cell_type": "code",
   "execution_count": null,
   "metadata": {},
   "outputs": [],
   "source": [
    "sol_inplace = solve(prob_inplace)\n",
    "plot(sol_inplace, lw=3, xaxis=\"Time (t)\", yaxis=\"u(t)\", legend=false)\n",
    "plot!(0:0.01:1, t->u0*exp(α*t), lw=3, ls=:dash)"
   ]
  },
  {
   "cell_type": "markdown",
   "metadata": {},
   "source": [
    "### Lotka-Volterra Equations\n",
    "\n",
    "The Lotka-Volterra equations are a model of population dynamics where there are two species, one acting as prey and one as predator:\n",
    "\n",
    "$$\n",
    "\\frac{dx}{dt} = \\alpha x - \\beta xy \\\\\n",
    "\\frac{dy}{dt} = \\delta xy - \\gamma y\n",
    "$$\n",
    "\n",
    "Here $x$ is the size of the prey population and $y$ the size of the predator population and:\n",
    "\n",
    "- $\\alpha$ is the rate at which the preys increase in number.\n",
    "- $\\beta$ is the rate at which the preys are killed by the predators.\n",
    "- $\\gamma$ is the rate at which the predators die or leave the territory.\n",
    "- $\\delta$ is the rate at which the population of predators increases, that depends on how many preys they are able to catch."
   ]
  },
  {
   "cell_type": "markdown",
   "metadata": {},
   "source": [
    "We can now define an (in-place) function for the Lotka-Volterra equations:"
   ]
  },
  {
   "cell_type": "code",
   "execution_count": null,
   "metadata": {},
   "outputs": [],
   "source": [
    "function lotka_volterra!(du, u, p, t)\n",
    "    α, β, γ, δ = p\n",
    "    x = u[1]\n",
    "    y = u[2]\n",
    "    du[1] = α*x - β*x*y\n",
    "    du[2] = δ*x*y - γ*y\n",
    "end"
   ]
  },
  {
   "cell_type": "markdown",
   "metadata": {},
   "source": [
    "We now model a populations starting at the same size, with a default set of parameters (recall that we can use named tuples to improve readability):"
   ]
  },
  {
   "cell_type": "code",
   "execution_count": null,
   "metadata": {},
   "outputs": [],
   "source": [
    "u0 = [10, 10]\n",
    "p = (α = 1.1, β = 0.4, γ = 0.4, δ = 0.1)\n",
    "tspan = (0.0, 100.0)\n",
    "prob_lv = ODEProblem(lotka_volterra!, u0, tspan, p)"
   ]
  },
  {
   "cell_type": "markdown",
   "metadata": {},
   "source": [
    "Finding the evolution in time of the two populations can still be obtained by simply calling the ```solve``` function"
   ]
  },
  {
   "cell_type": "code",
   "execution_count": null,
   "metadata": {},
   "outputs": [],
   "source": [
    "sol_lv = solve(prob_lv);"
   ]
  },
  {
   "cell_type": "code",
   "execution_count": null,
   "metadata": {},
   "outputs": [],
   "source": [
    "plot(sol_lv.t, [u[1] for u ∈ sol_lv.u], label=\"prey\")\n",
    "plot!(sol_lv.t, [u[2] for u ∈ sol_lv.u], label=\"predator\")\n",
    "xlabel!(\"time\")\n",
    "ylabel!(\"population size\")"
   ]
  },
  {
   "cell_type": "markdown",
   "metadata": {},
   "source": [
    "### Others Types of Differential Equations\n",
    "\n",
    "The library ```DifferentialEquations.jl``` can also manage many kinds of differential equations (from the [documentation](https://diffeq.sciml.ai/v6.16/)):\n",
    "\n",
    "- Discrete equations (function maps, discrete stochastic (Gillespie/Markov) simulations)\n",
    "- Ordinary differential equations (ODEs)\n",
    "- Split and Partitioned ODEs (Symplectic integrators, IMEX Methods)\n",
    "- Stochastic ordinary differential equations (SODEs or SDEs)\n",
    "- Random differential equations (RODEs or RDEs)\n",
    "- Differential algebraic equations (DAEs)\n",
    "- Delay differential equations (DDEs)\n",
    "- Stochastic delay differential equations (SDDEs)\n",
    "- Mixed discrete and continuous equations (Hybrid Equations, Jump Diffusions)\n",
    "- (Stochastic) partial differential equations ((S)PDEs) (with both finite difference and finite element methods)\n",
    "\n",
    "We will see as example the SIR model, where the jumps are discrete."
   ]
  },
  {
   "cell_type": "markdown",
   "metadata": {},
   "source": [
    "### The SIR model\n",
    "\n",
    "The SIR model is used to simulate the effect of the diffusion of a disease inside a population. The states of each individual can be:\n",
    "\n",
    "- Susceptible\n",
    "- Infected\n",
    "- Recovered\n",
    "\n",
    "A susceptible person in contact with an infected one can become infected (with a certain rate $c_1$). An infected person transition to a recovered state with a certain rate $c_2$."
   ]
  },
  {
   "cell_type": "markdown",
   "metadata": {},
   "source": [
    "We import the ```Catalyst.jl``` module that allow us to write in a compact way a reaction network. I.e., we want to write that $s + i \\rightarrow 2 i$ with a certain rate $c_1$ and $i \\rightarrow r$ with a certain rate $c_2$"
   ]
  },
  {
   "cell_type": "code",
   "execution_count": null,
   "metadata": {},
   "outputs": [],
   "source": [
    "using Catalyst"
   ]
  },
  {
   "cell_type": "markdown",
   "metadata": {},
   "source": [
    "```Catalyst``` makes writing these reactions quite simple:"
   ]
  },
  {
   "cell_type": "code",
   "execution_count": null,
   "metadata": {},
   "outputs": [],
   "source": [
    "sir_model = @reaction_network begin\n",
    "    c1, s + i --> 2i\n",
    "    c2, i --> r\n",
    "    end c1 c2"
   ]
  },
  {
   "cell_type": "markdown",
   "metadata": {},
   "source": [
    "We can now set the initial conditions:"
   ]
  },
  {
   "cell_type": "code",
   "execution_count": null,
   "metadata": {},
   "outputs": [],
   "source": [
    "p = (1e-4, 0.01)\n",
    "tspan = (0.0, 300.0)\n",
    "u0 = [999, 1, 0] # 999 susceptible, 1 infected, 0 recovered\n",
    "prob_sir = DiscreteProblem(sir_model, u0, tspan, p)"
   ]
  },
  {
   "cell_type": "markdown",
   "metadata": {},
   "source": [
    "And find the dynamics of the disease:"
   ]
  },
  {
   "cell_type": "code",
   "execution_count": null,
   "metadata": {},
   "outputs": [],
   "source": [
    "prob_jump = JumpProblem(sir_model, prob_sir, Direct())\n",
    "sol_sir = solve(prob_jump, SSAStepper());"
   ]
  },
  {
   "cell_type": "code",
   "execution_count": null,
   "metadata": {},
   "outputs": [],
   "source": [
    "plot(sol_sir)"
   ]
  },
  {
   "cell_type": "markdown",
   "metadata": {},
   "source": [
    "### Packages to check\n",
    "\n",
    "The following packages are related to ```DIfferentialEquations.jl``` and can be interesting for specific applications:\n",
    "\n",
    "- ```DiffEqFlux.jl```, to create Neural ODE.\n",
    "- ```diffeqpy``` and ```diffeqr``` makes the solvers of ```DifferentialEquations.jl``` available to Python and R, respectively."
   ]
  },
  {
   "cell_type": "markdown",
   "metadata": {},
   "source": [
    "## Probabilistic Programming\n",
    "\n",
    "One of the main libraries in Julia for probabilistic programming is ```Turing.jl```.\n",
    "\n",
    "Programming works with a known model with known parameters to generate some data.\n",
    "\n",
    "Probabilistic programming is the case when the data and the model are known but we ignore the parameters.\n",
    "\n",
    "#### Some references\n",
    "\n",
    "[An Introduction to Probabilistic Programming](https://arxiv.org/abs/1809.10756)"
   ]
  },
  {
   "cell_type": "markdown",
   "metadata": {},
   "source": [
    "Let us import ```Turing.jl``` plus a library of distributions, and a library to work with Makow chain Monte Carlo"
   ]
  },
  {
   "cell_type": "code",
   "execution_count": null,
   "metadata": {},
   "outputs": [],
   "source": [
    "using Turing\n",
    "using Distributions\n",
    "using MCMCChains"
   ]
  },
  {
   "cell_type": "markdown",
   "metadata": {},
   "source": [
    "A model (prefixed with the macro ```@model```) is a function. The function can then be used to condition the model on the data.\n",
    "\n",
    "Here we model a coin flip (example taken from this [tutorial](https://turing.ml/dev/tutorials/0-introduction/)) where we do not know the probability $p$ of landing on head or tail.\n",
    "\n",
    "Here, we have $y_1, \\ldots, y_n$ samples that we know that theu will be distributed according to a Bernoulli distribution with parameter $p$."
   ]
  },
  {
   "cell_type": "code",
   "execution_count": null,
   "metadata": {},
   "outputs": [],
   "source": [
    "@model function coin(y)\n",
    "    p ~ Beta(1,1)\n",
    "   \n",
    "    for i ∈ 1:length(y)\n",
    "        y[i] ~ Bernoulli(p)\n",
    "    end\n",
    "end;"
   ]
  },
  {
   "cell_type": "markdown",
   "metadata": {},
   "source": [
    "We can now generate $100$ samples from a fair coin:"
   ]
  },
  {
   "cell_type": "code",
   "execution_count": null,
   "metadata": {},
   "outputs": [],
   "source": [
    "data = rand(Bernoulli(0.5), 100);"
   ]
  },
  {
   "cell_type": "markdown",
   "metadata": {},
   "source": [
    "We can then use the model to estimate the probability $p$ of landing on tail given that data that we have:"
   ]
  },
  {
   "cell_type": "code",
   "execution_count": null,
   "metadata": {},
   "outputs": [],
   "source": [
    "ϵ = 0.05\n",
    "τ = 10\n",
    "iterations = 1000\n",
    "chain = sample(coin(data), HMC(ϵ, τ), iterations)"
   ]
  },
  {
   "cell_type": "code",
   "execution_count": null,
   "metadata": {},
   "outputs": [],
   "source": [
    "histogram(chain[:p], label=:none)"
   ]
  },
  {
   "cell_type": "markdown",
   "metadata": {},
   "source": [
    "## Distributed Computation\n",
    "\n",
    "We are going to explore how it is possible to easily distribute work across multiple processes (and, possibly, machines) in Julia.\n",
    "\n",
    "To see size of computations possible in Julia see the presentation [Celeste.jl: Petascale Computing in Julia](https://www.youtube.com/watch?v=uecdcADM3hY).\n",
    "\n",
    "First of all, we import the ```Distributed``` package"
   ]
  },
  {
   "cell_type": "code",
   "execution_count": null,
   "metadata": {},
   "outputs": [],
   "source": [
    "using Distributed\n",
    "using BenchmarkTools"
   ]
  },
  {
   "cell_type": "markdown",
   "metadata": {},
   "source": [
    "We can use the function ```nprocs``` to see the number of active Julia processes"
   ]
  },
  {
   "cell_type": "code",
   "execution_count": null,
   "metadata": {},
   "outputs": [],
   "source": [
    "nprocs()"
   ]
  },
  {
   "cell_type": "markdown",
   "metadata": {},
   "source": [
    "Additional worker processes can be added with the ```addproc``` function, which return an array of integer ids representing the newly created processes"
   ]
  },
  {
   "cell_type": "code",
   "execution_count": null,
   "metadata": {},
   "outputs": [],
   "source": [
    "addprocs(1)"
   ]
  },
  {
   "cell_type": "markdown",
   "metadata": {},
   "source": [
    "As we can see, the number of Julia processes is now increased:"
   ]
  },
  {
   "cell_type": "code",
   "execution_count": null,
   "metadata": {},
   "outputs": [],
   "source": [
    "nprocs()"
   ]
  },
  {
   "cell_type": "markdown",
   "metadata": {},
   "source": [
    "We will see a collection of macros, structures, and functions that are used for computation among multiple processes:\n",
    "\n",
    "- ```@everywhere``` to execute a block of code in all processes.\n",
    "- ```@spawnat``` to execute a function in a specific process.\n",
    "- ```Future``` and ```fetch``` the result of \n",
    "- ```@sync```\n",
    "- ```@distributed```"
   ]
  },
  {
   "cell_type": "markdown",
   "metadata": {},
   "source": [
    "Our test case will be the following function to approximate $\\pi$ via a uniform sampling in $[0,1]^2$."
   ]
  },
  {
   "cell_type": "code",
   "execution_count": null,
   "metadata": {},
   "outputs": [],
   "source": [
    "function approx_pi(n)\n",
    "    s = 0\n",
    "    for i ∈ 1:n\n",
    "        p = (rand(), rand())\n",
    "        s += p[1]^2 + p[2]^2 <= 1\n",
    "    end\n",
    "    4s/n\n",
    "end"
   ]
  },
  {
   "cell_type": "markdown",
   "metadata": {},
   "source": [
    "Let us benchmark it using ```BenchmarkTools.jl```"
   ]
  },
  {
   "cell_type": "code",
   "execution_count": null,
   "metadata": {},
   "outputs": [],
   "source": [
    "@btime approx_pi(10^7)"
   ]
  },
  {
   "cell_type": "markdown",
   "metadata": {},
   "source": [
    "We can now distribute the computation:\n",
    "\n",
    "- Define a function ```approx_pi_sum``` on every process\n",
    "- Split the $n$ points to sample in equal-length chunks and distribute it across processes with ```@spawnat```\n",
    "- Each computation returns a ```Future```\n",
    "- Wait for each computation to finish with ```@sync```\n",
    "- Fetch the results of the computation with ```fetch```\n",
    "- Finally compute this approximation of $\\pi$"
   ]
  },
  {
   "cell_type": "code",
   "execution_count": null,
   "metadata": {},
   "outputs": [],
   "source": [
    "@everywhere function approx_pi_sum(n)\n",
    "    s = 0\n",
    "    for i ∈ 1:n\n",
    "        p = (rand(), rand())\n",
    "        s += p[1]^2 + p[2]^2 <= 1\n",
    "    end\n",
    "    s\n",
    "end\n",
    "\n",
    "function compute_pi(n)\n",
    "    np = nprocs()\n",
    "    partial_sums = Vector(undef, np)\n",
    "    k = n ÷ np\n",
    "    @sync for i ∈ 1:np\n",
    "        partial_sums[i] = @spawnat i approx_pi_sum(k)\n",
    "    end\n",
    "    missings = n - np*k\n",
    "    s = approx_pi_sum(missings)\n",
    "    4*(sum(fetch.(partial_sums)) + s)/n\n",
    "end\n",
    "     "
   ]
  },
  {
   "cell_type": "code",
   "execution_count": null,
   "metadata": {},
   "outputs": [],
   "source": [
    "@btime compute_pi(10^7)"
   ]
  },
  {
   "cell_type": "markdown",
   "metadata": {},
   "source": [
    "Since this is so common, we can use the ```@distributed``` macros, that distribute the computation of a ```for``` cycle across all processes and reduce it with a given function"
   ]
  },
  {
   "cell_type": "code",
   "execution_count": null,
   "metadata": {},
   "outputs": [],
   "source": [
    "function distributed_pi(n)\n",
    "    sum = @distributed (+) for i ∈ 1:n\n",
    "            p = (rand(), rand())\n",
    "            p[1]^2 + p[2]^2 <= 1\n",
    "    end\n",
    "    4*sum/n\n",
    "end"
   ]
  },
  {
   "cell_type": "code",
   "execution_count": null,
   "metadata": {},
   "outputs": [],
   "source": [
    "distributed_pi(10^7)"
   ]
  },
  {
   "cell_type": "code",
   "execution_count": null,
   "metadata": {},
   "outputs": [],
   "source": [
    "@btime distributed_pi(10^7)"
   ]
  },
  {
   "cell_type": "markdown",
   "metadata": {},
   "source": [
    "### Q&A"
   ]
  },
  {
   "cell_type": "code",
   "execution_count": null,
   "metadata": {},
   "outputs": [],
   "source": []
  }
 ],
 "metadata": {
  "kernelspec": {
   "display_name": "Julia 1.5.3",
   "language": "julia",
   "name": "julia-1.5"
  },
  "language_info": {
   "file_extension": ".jl",
   "mimetype": "application/julia",
   "name": "julia",
   "version": "1.5.3"
  }
 },
 "nbformat": 4,
 "nbformat_minor": 4
}
